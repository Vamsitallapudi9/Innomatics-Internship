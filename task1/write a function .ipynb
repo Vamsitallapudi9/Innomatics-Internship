{
 "cells": [
  {
   "cell_type": "code",
   "execution_count": 28,
   "id": "1af0ebc4",
   "metadata": {},
   "outputs": [
    {
     "name": "stdout",
     "output_type": "stream",
     "text": [
      "1600\n",
      "True\n"
     ]
    }
   ],
   "source": [
    "def is_leap(year):\n",
    "    leap =False\n",
    "    \n",
    "    if (year % 4) ==0:\n",
    "        if (year % 100)==0:\n",
    "            if (year % 400) ==0:\n",
    "                leap=True\n",
    "    else:\n",
    "        leap=False\n",
    "        \n",
    "    return leap\n",
    "     \n",
    "year = int(input())\n",
    "print(is_leap(year))      "
   ]
  }
 ],
 "metadata": {
  "kernelspec": {
   "display_name": "Python 3 (ipykernel)",
   "language": "python",
   "name": "python3"
  },
  "language_info": {
   "codemirror_mode": {
    "name": "ipython",
    "version": 3
   },
   "file_extension": ".py",
   "mimetype": "text/x-python",
   "name": "python",
   "nbconvert_exporter": "python",
   "pygments_lexer": "ipython3",
   "version": "3.9.12"
  }
 },
 "nbformat": 4,
 "nbformat_minor": 5
}
