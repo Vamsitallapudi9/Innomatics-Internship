{
 "cells": [
  {
   "cell_type": "markdown",
   "id": "5ee15b89",
   "metadata": {},
   "source": [
    "Polar Coordinates"
   ]
  },
  {
   "cell_type": "code",
   "execution_count": 1,
   "id": "e9c150a3",
   "metadata": {},
   "outputs": [
    {
     "name": "stdout",
     "output_type": "stream",
     "text": [
      "5\n",
      "5.0\n",
      "0.0\n"
     ]
    }
   ],
   "source": [
    "import cmath\n",
    "\n",
    "z = complex(input())\n",
    "p = cmath.polar(z)\n",
    "print(p[0])\n",
    "print(p[1])"
   ]
  },
  {
   "cell_type": "markdown",
   "id": "12e3478d",
   "metadata": {},
   "source": [
    "mod div mod\n"
   ]
  },
  {
   "cell_type": "code",
   "execution_count": 2,
   "id": "60b3823d",
   "metadata": {},
   "outputs": [
    {
     "name": "stdout",
     "output_type": "stream",
     "text": [
      "5\n",
      "6\n",
      "0\n",
      "5\n",
      "(0, 5)\n"
     ]
    }
   ],
   "source": [
    "a = int(input())\n",
    "b = int(input())\n",
    "d = divmod(a, b)\n",
    "print(d[0])\n",
    "print(d[1])\n",
    "print(d)"
   ]
  },
  {
   "cell_type": "markdown",
   "id": "31a5c1a1",
   "metadata": {},
   "source": [
    "Power - Mod Power"
   ]
  },
  {
   "cell_type": "code",
   "execution_count": 3,
   "id": "7ab14a2b",
   "metadata": {},
   "outputs": [
    {
     "name": "stdout",
     "output_type": "stream",
     "text": [
      "2\n",
      "3\n",
      "4\n",
      "8\n",
      "0\n"
     ]
    }
   ],
   "source": [
    "a = int(input())\n",
    "b = int(input())\n",
    "c = int(input())\n",
    "print(pow(a, b))\n",
    "print(pow(a, b, c))"
   ]
  },
  {
   "cell_type": "markdown",
   "id": "f8a5d41f",
   "metadata": {},
   "source": [
    "Integers Come In All Sizes"
   ]
  },
  {
   "cell_type": "code",
   "execution_count": 4,
   "id": "84f67784",
   "metadata": {},
   "outputs": [
    {
     "name": "stdout",
     "output_type": "stream",
     "text": [
      "5\n",
      "5\n",
      "5\n",
      "5\n",
      "6250\n"
     ]
    }
   ],
   "source": [
    "a = int(input())\n",
    "b = int(input())\n",
    "c = int(input())\n",
    "d = int(input())\n",
    "\n",
    "result = pow(a, b) + pow(c, d)\n",
    "print(result)\n"
   ]
  },
  {
   "cell_type": "code",
   "execution_count": 5,
   "id": "cb6c5b49",
   "metadata": {},
   "outputs": [
    {
     "name": "stdout",
     "output_type": "stream",
     "text": [
      "5\n",
      "1\n",
      "22\n",
      "333\n",
      "4444\n",
      "55555\n"
     ]
    }
   ],
   "source": [
    "for i in range(1, int(input())+1):\n",
    "    print((10**i//9)*i)\n"
   ]
  },
  {
   "cell_type": "markdown",
   "id": "4a873b0c",
   "metadata": {},
   "source": [
    "Triangle quest "
   ]
  },
  {
   "cell_type": "code",
   "execution_count": 8,
   "id": "2a042e65",
   "metadata": {},
   "outputs": [
    {
     "name": "stdout",
     "output_type": "stream",
     "text": [
      "5\n",
      "1\n",
      "22\n",
      "333\n",
      "4444\n"
     ]
    }
   ],
   "source": [
    "for i in range(1,int(input())):\n",
    "    print((10**i//9)*i)\n"
   ]
  },
  {
   "cell_type": "code",
   "execution_count": null,
   "id": "0d0649d6",
   "metadata": {},
   "outputs": [],
   "source": []
  }
 ],
 "metadata": {
  "kernelspec": {
   "display_name": "Python 3 (ipykernel)",
   "language": "python",
   "name": "python3"
  },
  "language_info": {
   "codemirror_mode": {
    "name": "ipython",
    "version": 3
   },
   "file_extension": ".py",
   "mimetype": "text/x-python",
   "name": "python",
   "nbconvert_exporter": "python",
   "pygments_lexer": "ipython3",
   "version": "3.9.12"
  }
 },
 "nbformat": 4,
 "nbformat_minor": 5
}
