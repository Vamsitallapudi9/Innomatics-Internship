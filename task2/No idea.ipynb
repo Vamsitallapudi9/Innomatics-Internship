{
 "cells": [
  {
   "cell_type": "code",
   "execution_count": 2,
   "id": "c0643da5",
   "metadata": {},
   "outputs": [
    {
     "name": "stdout",
     "output_type": "stream",
     "text": [
      "5 5\n",
      "4 2 8\n",
      "4 7\n",
      "3 \n",
      "1\n"
     ]
    }
   ],
   "source": [
    "# Enter your code here. Read input from STDIN. Print output to STDOUT\n",
    "\n",
    "from collections import Counter\n",
    "\n",
    "n, m = map(int, input().split())\n",
    "data = list(map(int, input().split()))\n",
    "data_counter = Counter(data)\n",
    "data_set = set(data)\n",
    "set_a = set(map(int, input().split()))\n",
    "set_b = set(map(int, input().split()))\n",
    "happiness = 0\n",
    "for i in data_set & set_a:\n",
    "    happiness += data_counter[i]\n",
    "for i in data_set & set_b:\n",
    "    happiness -= data_counter[i]\n",
    "print(happiness)\n"
   ]
  }
 ],
 "metadata": {
  "kernelspec": {
   "display_name": "Python 3 (ipykernel)",
   "language": "python",
   "name": "python3"
  },
  "language_info": {
   "codemirror_mode": {
    "name": "ipython",
    "version": 3
   },
   "file_extension": ".py",
   "mimetype": "text/x-python",
   "name": "python",
   "nbconvert_exporter": "python",
   "pygments_lexer": "ipython3",
   "version": "3.9.12"
  }
 },
 "nbformat": 4,
 "nbformat_minor": 5
}
