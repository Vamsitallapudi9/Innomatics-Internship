{
 "cells": [
  {
   "cell_type": "markdown",
   "id": "9dcf38f8",
   "metadata": {},
   "source": [
    "AuB.png .union()\n",
    "\n",
    "The .union() operator returns the union of a set and the set of elements in an iterable.\n",
    "Sometimes, the | operator is used in place of .union() operator, but it operates only on the set of elements in set.\n",
    "Set is immutable to the .union() operation (or | operation).\n",
    "\n",
    "Example\n",
    "\n",
    ">>> s = set(\"Hacker\")\n",
    ">>> print s.union(\"Rank\")\n",
    "set(['a', 'R', 'c', 'r', 'e', 'H', 'k', 'n'])\n",
    "\n",
    ">>> print s.union(set(['R', 'a', 'n', 'k']))\n",
    "set(['a', 'R', 'c', 'r', 'e', 'H', 'k', 'n'])\n",
    "\n",
    ">>> print s.union(['R', 'a', 'n', 'k'])\n",
    "set(['a', 'R', 'c', 'r', 'e', 'H', 'k', 'n'])\n",
    "\n",
    ">>> print s.union(enumerate(['R', 'a', 'n', 'k']))\n",
    "set(['a', 'c', 'r', 'e', (1, 'a'), (2, 'n'), 'H', 'k', (3, 'k'), (0, 'R')])\n",
    "\n",
    ">>> print s.union({\"Rank\":1})\n",
    "set(['a', 'c', 'r', 'e', 'H', 'k', 'Rank'])\n",
    "\n",
    ">>> s | set(\"Rank\")\n",
    "set(['a', 'R', 'c', 'r', 'e', 'H', 'k', 'n'])\n",
    "Task\n",
    "The students of District College have subscriptions to English and French newspapers. Some students have subscribed only to English, some have subscribed to only French and some have subscribed to both newspapers.\n",
    "\n",
    "You are given two sets of student roll numbers. One set has subscribed to the English newspaper, and the other set is subscribed to the French newspaper. The same student could be in both sets. Your task is to find the total number of students who have subscribed to at least one newspaper.\n",
    "\n",
    "Input Format\n",
    "\n",
    "The first line contains an integer, , the number of students who have subscribed to the English newspaper.\n",
    "The second line contains  space separated roll numbers of those students.\n",
    "The third line contains , the number of students who have subscribed to the French newspaper.\n",
    "The fourth line contains  space separated roll numbers of those students.\n",
    "\n",
    "Constraints\n",
    "\n",
    "\n",
    "Output Format\n",
    "\n",
    "Output the total number of students who have at least one subscription.\n",
    "\n",
    "Sample Input\n",
    "\n",
    "9\n",
    "1 2 3 4 5 6 7 8 9\n",
    "9\n",
    "10 1 2 3 11 21 55 6 8\n",
    "Sample Output\n",
    "\n",
    "13\n",
    "Explanation\n",
    "\n",
    "Roll numbers of students who have at least one subscription:\n",
    " and . Roll numbers:  and  are in both sets so they are only counted once.\n",
    "Hence, the total is  students."
   ]
  },
  {
   "cell_type": "code",
   "execution_count": 1,
   "id": "56f51e9a",
   "metadata": {},
   "outputs": [
    {
     "name": "stdout",
     "output_type": "stream",
     "text": [
      "4\n",
      "6\n",
      "44464\n",
      "6464\n",
      "2\n"
     ]
    }
   ],
   "source": [
    "n = int(input())\n",
    "a = set(map(int, input().split()))\n",
    "m = int(input())\n",
    "b = set(map(int, input().split()))\n",
    "print(len(a | b))\n"
   ]
  }
 ],
 "metadata": {
  "kernelspec": {
   "display_name": "Python 3 (ipykernel)",
   "language": "python",
   "name": "python3"
  },
  "language_info": {
   "codemirror_mode": {
    "name": "ipython",
    "version": 3
   },
   "file_extension": ".py",
   "mimetype": "text/x-python",
   "name": "python",
   "nbconvert_exporter": "python",
   "pygments_lexer": "ipython3",
   "version": "3.9.12"
  }
 },
 "nbformat": 4,
 "nbformat_minor": 5
}
